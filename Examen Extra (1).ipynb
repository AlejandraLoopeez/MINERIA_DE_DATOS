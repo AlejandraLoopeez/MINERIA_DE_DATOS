{
 "cells": [
  {
   "cell_type": "markdown",
   "metadata": {},
   "source": [
    "# Examen Extra"
   ]
  },
  {
   "cell_type": "markdown",
   "metadata": {},
   "source": [
    "        Alejandra López Fernández  1725077   Grupo 001\n",
    "Responde las siguientes preguntas. El máximo de puntos que puedes obtener son 10. Puedes\n",
    "contestar todas las preguntas, o solo las que consideras necesarias."
   ]
  },
  {
   "cell_type": "markdown",
   "metadata": {},
   "source": [
    "### 1.- Haz una función que te imprima listas de números enteros aleatorios con cantidad de 5, 10, 15 elementos"
   ]
  },
  {
   "cell_type": "code",
   "execution_count": 27,
   "metadata": {},
   "outputs": [],
   "source": [
    "import random\n",
    "import collections"
   ]
  },
  {
   "cell_type": "code",
   "execution_count": 45,
   "metadata": {},
   "outputs": [
    {
     "name": "stdout",
     "output_type": "stream",
     "text": [
      "[27, 25, 72, 56, 71]\n",
      "[45, 36, 22, 63, 11, 57, 56, 86, 50, 54]\n",
      "[46, 35, 45, 59, 68, 23, 45, 93, 94, 60, 10, 45, 30, 34, 8]\n"
     ]
    }
   ],
   "source": [
    "#(Puntos 1) \n",
    "def listaAleatoria(n):\n",
    "    lista=[]\n",
    "    for i in range (0,n):\n",
    "        lista.append(random.randint(0, 100))\n",
    "    return lista\n",
    "ls5=listaAleatoria(5)\n",
    "ls10=listaAleatoria(10)\n",
    "ls15=listaAleatoria(15)\n",
    "print(ls5)\n",
    "print(ls10)\n",
    "print(ls15)   "
   ]
  },
  {
   "cell_type": "markdown",
   "metadata": {},
   "source": [
    "### 2.- Con la función que generaste toma la lista de 15, y haz una función que te indique cual de los numeros es el mayor y otra que te indique cual es el menor"
   ]
  },
  {
   "cell_type": "code",
   "execution_count": 59,
   "metadata": {},
   "outputs": [
    {
     "name": "stdout",
     "output_type": "stream",
     "text": [
      "El numero mayor es: 94\n",
      "El numero mayor es: 8\n"
     ]
    }
   ],
   "source": [
    "n=ls15\n",
    "def mayor(n):\n",
    "    ma=max(n)\n",
    "    return ma\n",
    "ma=mayor(n)\n",
    "print(\"El numero mayor es:\",ma)\n",
    "def menor(n):\n",
    "    mi=min(n)\n",
    "    return mi\n",
    "mi=menor(n)\n",
    "print(\"El numero mayor es:\",mi)"
   ]
  },
  {
   "cell_type": "markdown",
   "metadata": {},
   "source": [
    "### 3.- Toma las listas y ordénalas de mayor a menor, y de menor a mayor"
   ]
  },
  {
   "cell_type": "code",
   "execution_count": 47,
   "metadata": {},
   "outputs": [
    {
     "name": "stdout",
     "output_type": "stream",
     "text": [
      "Ordenadas de mayor a menor\n",
      "[72, 71, 56, 27, 25]\n",
      "[86, 63, 57, 56, 54, 50, 45, 36, 22, 11]\n",
      "[94, 93, 68, 60, 59, 46, 45, 45, 45, 35, 34, 30, 23, 10, 8]\n",
      "Ordenadas de menor a mayor\n",
      "[25, 27, 56, 71, 72]\n",
      "[11, 22, 36, 45, 50, 54, 56, 57, 63, 86]\n",
      "[8, 10, 23, 30, 34, 35, 45, 45, 45, 46, 59, 60, 68, 93, 94]\n"
     ]
    }
   ],
   "source": [
    "#(Puntos 1)\n",
    "print(\"Ordenadas de mayor a menor\")\n",
    "ls5.sort()\n",
    "ls5.reverse()\n",
    "print (ls5)\n",
    "ls10.sort()\n",
    "ls10.reverse()\n",
    "print (ls10)\n",
    "ls15.sort()\n",
    "ls15.reverse()\n",
    "print (ls15)\n",
    "print(\"Ordenadas de menor a mayor\")\n",
    "ls5.sort()\n",
    "print (ls5)\n",
    "ls10.sort()\n",
    "print (ls10)\n",
    "ls15.sort()\n",
    "print (ls15)"
   ]
  },
  {
   "cell_type": "markdown",
   "metadata": {},
   "source": [
    "### 4.- Haz una sola lista que contenga todos los elementos pares de las 3 primeras listas."
   ]
  },
  {
   "cell_type": "code",
   "execution_count": 40,
   "metadata": {},
   "outputs": [
    {
     "name": "stdout",
     "output_type": "stream",
     "text": [
      "Lista de pares: [86, 52, 28, 96, 90, 72, 60, 44, 36, 28, 6, 2, 0]\n"
     ]
    }
   ],
   "source": [
    "#(Puntos 1)\n",
    "ls=ls5+ls10+ls15\n",
    "Apar=[]\n",
    "for i in ls:\n",
    "    if i%2==0:\n",
    "        Apar.append(i)\n",
    "print(\"Lista de pares:\",Apar)"
   ]
  },
  {
   "cell_type": "markdown",
   "metadata": {},
   "source": [
    "### 5.- Reemplazar todos los números impares del arreglo de 15 elementos del ejercicio 1.) con un -1."
   ]
  },
  {
   "cell_type": "code",
   "execution_count": 38,
   "metadata": {},
   "outputs": [
    {
     "data": {
      "text/plain": [
       "[-1, -1, 96, 44, 0, -1, 28, 72, -1, -1, 36, 90, 2, 60, 6]"
      ]
     },
     "execution_count": 38,
     "metadata": {},
     "output_type": "execute_result"
    }
   ],
   "source": [
    "#(Puntos 1)\n",
    "ls15=[45, 79, 96, 44, 0, 27, 28, 72, 19, 67, 36, 90, 2, 60, 6]\n",
    "def remplazar(ls15):\n",
    "    for n,i in enumerate(ls15):\n",
    "        if i%2!=0:\n",
    "             ls15[n] = -1\n",
    "    return ls15\n",
    "ls=remplazar(ls15)\n",
    "ls"
   ]
  },
  {
   "cell_type": "markdown",
   "metadata": {},
   "source": [
    "### 6.-Haz una función que te permita hacer conversiones de grados Celsius a Fahrenheit."
   ]
  },
  {
   "cell_type": "code",
   "execution_count": 25,
   "metadata": {},
   "outputs": [
    {
     "name": "stdout",
     "output_type": "stream",
     "text": [
      "Celsius a Fahrenheit 122.0\n"
     ]
    }
   ],
   "source": [
    "#(Puntos 1)\n",
    "def conve(cs):\n",
    "    fh=cs*9.0/5.0 +32\n",
    "    return fh\n",
    "cs=50\n",
    "print(\"Celsius a Fahrenheit\",conve(cs))"
   ]
  },
  {
   "cell_type": "markdown",
   "metadata": {},
   "source": [
    "### 7.- Hacer relaciones entre los datos de las siguientes listas. El resultado deberá ser una lista con los elementos que se repitan en ambas listas. \n",
    "a. = 1, 2, 3, 9, 3, 4, 3, 4, 5, 6, 11\n",
    "b. = 10, 6, 5, 7, 11, 12, 4, 5, 9, 66"
   ]
  },
  {
   "cell_type": "code",
   "execution_count": 26,
   "metadata": {},
   "outputs": [
    {
     "name": "stdout",
     "output_type": "stream",
     "text": [
      "Valores unicos: [1, 2, 3, 9, 4, 5, 6, 11, 10, 7, 12, 66]\n",
      "Valores repetidos: [3, 4, 6, 5, 11, 9]\n"
     ]
    }
   ],
   "source": [
    "#(Puntos 1)\n",
    "a = [1, 2, 3, 9, 3, 4, 3, 4, 5, 6, 11]\n",
    "b = [10, 6, 5, 7, 11, 12, 4, 5, 9, 66]\n",
    "valores=a+b\n",
    "repetido = []\n",
    "unico = []\n",
    "for i in valores:\n",
    "    if i not in unico:\n",
    "        unico.append(i)\n",
    "    else:\n",
    "        if i not in repetido:\n",
    "            repetido.append(i)\n",
    "print (\"Valores unicos:\",unico)\n",
    "print (\"Valores repetidos:\",repetido)"
   ]
  }
 ],
 "metadata": {
  "kernelspec": {
   "display_name": "Python 3",
   "language": "python",
   "name": "python3"
  },
  "language_info": {
   "codemirror_mode": {
    "name": "ipython",
    "version": 3
   },
   "file_extension": ".py",
   "mimetype": "text/x-python",
   "name": "python",
   "nbconvert_exporter": "python",
   "pygments_lexer": "ipython3",
   "version": "3.7.6"
  }
 },
 "nbformat": 4,
 "nbformat_minor": 4
}
